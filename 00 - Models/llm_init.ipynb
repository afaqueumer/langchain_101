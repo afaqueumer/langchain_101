{
 "cells": [
  {
   "cell_type": "code",
   "execution_count": 1,
   "id": "256c7217",
   "metadata": {},
   "outputs": [],
   "source": [
    "from dotenv import load_dotenv\n",
    "import os\n",
    "\n",
    "load_dotenv()\n",
    "\n",
    "api_key = os.getenv(\"GEMINI_API_KEY\")"
   ]
  },
  {
   "cell_type": "markdown",
   "id": "fc14272f",
   "metadata": {},
   "source": [
    "## Integrate as LLM"
   ]
  },
  {
   "cell_type": "code",
   "execution_count": 8,
   "id": "be11c31a",
   "metadata": {},
   "outputs": [
    {
     "name": "stderr",
     "output_type": "stream",
     "text": [
      "E0000 00:00:1759456889.585302  863080 alts_credentials.cc:93] ALTS creds ignored. Not running on GCP and untrusted ALTS is not enabled.\n"
     ]
    }
   ],
   "source": [
    "from langchain_google_genai import GoogleGenerativeAI\n",
    "\n",
    "llm = GoogleGenerativeAI(model=\"gemini-2.5-flash-lite\", api_key=api_key)\n",
    "\n",
    "llm_response = llm.invoke(\"What is the capital of India?\")"
   ]
  },
  {
   "cell_type": "code",
   "execution_count": 9,
   "id": "2af096ff",
   "metadata": {},
   "outputs": [
    {
     "data": {
      "text/plain": [
       "'The capital of India is **New Delhi**.'"
      ]
     },
     "execution_count": 9,
     "metadata": {},
     "output_type": "execute_result"
    }
   ],
   "source": [
    "llm_response"
   ]
  },
  {
   "cell_type": "markdown",
   "id": "ea2ba498",
   "metadata": {},
   "source": [
    "## Integrate as Chat Model [Recommended]"
   ]
  },
  {
   "cell_type": "markdown",
   "id": "0e93650b",
   "metadata": {},
   "source": [
    "### Basic way to integrate"
   ]
  },
  {
   "cell_type": "code",
   "execution_count": null,
   "id": "49197474",
   "metadata": {},
   "outputs": [
    {
     "name": "stderr",
     "output_type": "stream",
     "text": [
      "E0000 00:00:1759457014.708756  863080 alts_credentials.cc:93] ALTS creds ignored. Not running on GCP and untrusted ALTS is not enabled.\n"
     ]
    }
   ],
   "source": [
    "from langchain.chat_models import init_chat_model\n",
    "\n",
    "model = init_chat_model(model=\"gemini-2.5-flash-lite\", model_provider=\"google_genai\", api_key=api_key)\n",
    "init_chat_response = model.invoke(\"What is the capital of India?\")"
   ]
  },
  {
   "cell_type": "code",
   "execution_count": 19,
   "id": "03d57c8c",
   "metadata": {},
   "outputs": [
    {
     "data": {
      "text/plain": [
       "AIMessage(content='The capital of India is **New Delhi**.', additional_kwargs={}, response_metadata={'prompt_feedback': {'block_reason': 0, 'safety_ratings': []}, 'finish_reason': 'STOP', 'model_name': 'gemini-2.5-flash-lite', 'safety_ratings': []}, id='run--4fd8ee37-5f69-450a-996f-a08352f492ae-0', usage_metadata={'input_tokens': 8, 'output_tokens': 9, 'total_tokens': 17, 'input_token_details': {'cache_read': 0}})"
      ]
     },
     "execution_count": 19,
     "metadata": {},
     "output_type": "execute_result"
    }
   ],
   "source": [
    "init_chat_response"
   ]
  },
  {
   "cell_type": "code",
   "execution_count": 20,
   "id": "2c91fbc1",
   "metadata": {},
   "outputs": [
    {
     "data": {
      "text/plain": [
       "'The capital of India is **New Delhi**.'"
      ]
     },
     "execution_count": 20,
     "metadata": {},
     "output_type": "execute_result"
    }
   ],
   "source": [
    "init_chat_response.content"
   ]
  },
  {
   "cell_type": "markdown",
   "id": "be1d2e39",
   "metadata": {},
   "source": [
    "#### Using ChatModel"
   ]
  },
  {
   "cell_type": "code",
   "execution_count": 21,
   "id": "82a3235a",
   "metadata": {},
   "outputs": [
    {
     "name": "stderr",
     "output_type": "stream",
     "text": [
      "E0000 00:00:1759457179.453980  863080 alts_credentials.cc:93] ALTS creds ignored. Not running on GCP and untrusted ALTS is not enabled.\n"
     ]
    }
   ],
   "source": [
    "from langchain_google_genai import ChatGoogleGenerativeAI\n",
    "\n",
    "chat_model = ChatGoogleGenerativeAI(model=\"gemini-2.5-flash-lite\", api_key=api_key)\n",
    "\n",
    "chat_response = chat_model.invoke(\"What is the capital of India?\")"
   ]
  },
  {
   "cell_type": "code",
   "execution_count": 22,
   "id": "2439b2a9",
   "metadata": {},
   "outputs": [
    {
     "data": {
      "text/plain": [
       "AIMessage(content='The capital of India is **New Delhi**.', additional_kwargs={}, response_metadata={'prompt_feedback': {'block_reason': 0, 'safety_ratings': []}, 'finish_reason': 'STOP', 'model_name': 'gemini-2.5-flash-lite', 'safety_ratings': []}, id='run--5d5e7fb1-2d69-4d7b-a1c3-c015e7d25381-0', usage_metadata={'input_tokens': 8, 'output_tokens': 9, 'total_tokens': 17, 'input_token_details': {'cache_read': 0}})"
      ]
     },
     "execution_count": 22,
     "metadata": {},
     "output_type": "execute_result"
    }
   ],
   "source": [
    "chat_response"
   ]
  },
  {
   "cell_type": "code",
   "execution_count": 23,
   "id": "3dba9341",
   "metadata": {},
   "outputs": [
    {
     "data": {
      "text/plain": [
       "'The capital of India is **New Delhi**.'"
      ]
     },
     "execution_count": 23,
     "metadata": {},
     "output_type": "execute_result"
    }
   ],
   "source": [
    "chat_response.content"
   ]
  },
  {
   "cell_type": "markdown",
   "id": "32b91b59",
   "metadata": {},
   "source": [
    "## Stream & Batch"
   ]
  },
  {
   "cell_type": "markdown",
   "id": "b30e0b73",
   "metadata": {},
   "source": [
    "#### Stream"
   ]
  },
  {
   "cell_type": "code",
   "execution_count": null,
   "id": "b9055a78",
   "metadata": {},
   "outputs": [
    {
     "name": "stdout",
     "output_type": "stream",
     "text": [
      "Parrots have colorful feathers for\n",
      "********************************************************************************\n",
      " a variety of reasons, and it's a fascinating interplay of **evolutionary\n",
      "********************************************************************************\n",
      " pressures and social behaviors.** Here's a breakdown of the main drivers:\n",
      "\n",
      "**1. Communication and Social Signaling:**\n",
      "\n",
      "* **Species Recognition:** The vibrant and often unique color patterns of parrots help them identify and recognize members of their own species. This\n",
      "********************************************************************************\n",
      " is crucial for finding mates, forming flocks, and avoiding interbreeding with other parrot species.\n",
      "* **Mate Attraction and Selection:** In many parrot species, bright and well-maintained plumage is a sign of good health, strong genes, and a successful\n",
      "********************************************************************************\n",
      " forager. Individuals with more vibrant colors may be more attractive to potential mates, leading to successful reproduction.\n",
      "* **Social Status and Dominance:** Coloration can also play a role in social hierarchies within a flock. Brighter or specific\n",
      "********************************************************************************\n",
      " colored patches might signal dominance or a willingness to challenge others.\n",
      "* **Emotional Expression:** While not as overt as in some other animals, color changes or displays can sometimes indicate a parrot's mood, such as excitement, agitation, or fear\n",
      "********************************************************************************\n",
      ".\n",
      "\n",
      "**2. Camouflage (Less Common, but Still a Factor):**\n",
      "\n",
      "* **Blending with Environment:** While we often associate parrots with bright, conspicuous colors, some species have evolved to blend in with their specific environments. For\n",
      "********************************************************************************\n",
      " example, some Amazon parrots are predominantly green, allowing them to camouflage effectively amongst the foliage of their rainforest homes. This helps them avoid predators.\n",
      "* **Predator Avoidance:** Even bright colors can sometimes serve as a form of disruptive coloration, breaking\n",
      "********************************************************************************\n",
      " up the bird's outline and making it harder for predators to spot them, especially in a busy, multi-colored environment like a tropical forest.\n",
      "\n",
      "**3. Diet and Nutrition:**\n",
      "\n",
      "* **Carotenoids:** Many of the vibrant reds\n",
      "********************************************************************************\n",
      ", oranges, and yellows in parrot feathers come from pigments called carotenoids. These are obtained from the fruits, seeds, and flowers that parrots eat. The ability to acquire and process these pigments can be an indicator of a parrot's foraging\n",
      "********************************************************************************\n",
      " skills and overall health, making them attractive to mates.\n",
      "* **Other Pigments:** Blues and greens are often structural colors, created by the way light interacts with the microscopic structure of the feathers, rather than by pigments. However, other pigments can contribute\n",
      "********************************************************************************\n",
      " to the overall color.\n",
      "\n",
      "**4. Thermoregulation (Minor Role):**\n",
      "\n",
      "* **Heat Absorption:** Darker colors tend to absorb more heat, which could be beneficial in cooler climates or during cooler parts of the day. Conversely\n",
      "********************************************************************************\n",
      ", lighter colors might reflect more heat, helping in very hot environments. However, this is generally considered a less significant factor compared to communication and social signaling.\n",
      "\n",
      "**In summary, the colorful feathers of parrots are a multi-faceted evolutionary adaptation.\n",
      "********************************************************************************\n",
      " They are primarily a tool for communication and social interaction, helping them find mates, recognize their own kind, and navigate their social world. While camouflage and thermoregulation might play minor roles in some species, the \"wow\" factor of parrot colors is largely\n",
      "********************************************************************************\n",
      " driven by their need to thrive within their complex social and ecological niches.**\n",
      "********************************************************************************\n"
     ]
    }
   ],
   "source": [
    "## LLM streaming - streams text only\n",
    "\n",
    "for chunk in llm.stream(\"Why do parrots have colorful feathers?\"):\n",
    "    print(chunk, end=\"\\n\", flush=True)\n",
    "    print(\"****************\"*5)\n"
   ]
  },
  {
   "cell_type": "code",
   "execution_count": null,
   "id": "eddde7e8",
   "metadata": {},
   "outputs": [
    {
     "name": "stdout",
     "output_type": "stream",
     "text": [
      "content='Parrots have' additional_kwargs={} response_metadata={'safety_ratings': []} id='run--5d68aebe-1cfb-4936-b99b-15c49d784323' usage_metadata={'input_tokens': 8, 'output_tokens': 3, 'total_tokens': 11, 'input_token_details': {'cache_read': 0}}|/n\n",
      "content=\" colorful feathers for a variety of reasons, and it's a fascinating interplay of\" additional_kwargs={} response_metadata={'safety_ratings': []} id='run--5d68aebe-1cfb-4936-b99b-15c49d784323' usage_metadata={'input_token_details': {'cache_read': 0}, 'output_tokens': 16, 'input_tokens': 0, 'total_tokens': 16}|/n\n",
      "content=' **evolution, communication, and survival**. Here are the main drivers behind their vibrant plumage:\\n\\n**1. Communication and Social Signaling:**\\n\\n*   **Mate Attraction:** This is a primary driver for many species. Bright, vibrant colors,' additional_kwargs={} response_metadata={'safety_ratings': []} id='run--5d68aebe-1cfb-4936-b99b-15c49d784323' usage_metadata={'input_token_details': {'cache_read': 0}, 'output_tokens': 48, 'input_tokens': 0, 'total_tokens': 48}|/n\n",
      "content=' especially in males, can signal good health, strong genes, and overall fitness to potential mates. A more colorful bird is often seen as a more desirable partner.\\n*   **Species Recognition:** In a flock, bright and distinct color patterns help' additional_kwargs={} response_metadata={'safety_ratings': []} id='run--5d68aebe-1cfb-4936-b99b-15c49d784323' usage_metadata={'input_token_details': {'cache_read': 0}, 'output_tokens': 49, 'input_tokens': 0, 'total_tokens': 49}|/n\n",
      "content=' parrots identify members of their own species. This is crucial for maintaining social bonds, finding mates, and coordinating group activities.\\n*   **Social Status and Hierarchy:** Within a parrot society, color variations can sometimes indicate dominance or social standing.' additional_kwargs={} response_metadata={'safety_ratings': []} id='run--5d68aebe-1cfb-4936-b99b-15c49d784323' usage_metadata={'input_token_details': {'cache_read': 0}, 'output_tokens': 49, 'input_tokens': 0, 'total_tokens': 49}|/n\n",
      "content=\" Brighter or more intense colors might be associated with higher ranks.\\n*   **Emotional Display:** While not as dramatic as some other animals, subtle changes in feather coloration or iridescence can sometimes reflect a parrot's mood or excitement.\\n\\n**2.\" additional_kwargs={} response_metadata={'safety_ratings': []} id='run--5d68aebe-1cfb-4936-b99b-15c49d784323' usage_metadata={'input_token_details': {'cache_read': 0}, 'output_tokens': 53, 'input_tokens': 0, 'total_tokens': 53}|/n\n",
      "content=' Camouflage and Predator Avoidance:**\\n\\n*   **Mimicking the Environment:** While many parrots are brightly colored, their colors can also serve as camouflage in their specific habitats. For example, green parrots blend in with foliage, while those with reds' additional_kwargs={} response_metadata={'safety_ratings': []} id='run--5d68aebe-1cfb-4936-b99b-15c49d784323' usage_metadata={'input_token_details': {'cache_read': 0}, 'output_tokens': 49, 'input_tokens': 0, 'total_tokens': 49}|/n\n",
      "content=\" and blues might be adept at hiding among flowers or fruits.\\n*   **Disruptive Coloration:** In some cases, the bold patterns and contrasting colors can break up the parrot's outline, making it harder for predators to spot them\" additional_kwargs={} response_metadata={'safety_ratings': []} id='run--5d68aebe-1cfb-4936-b99b-15c49d784323' usage_metadata={'input_token_details': {'cache_read': 0}, 'output_tokens': 49, 'input_tokens': 0, 'total_tokens': 49}|/n\n",
      "content=' against a busy background.\\n*   **Warning Signals (Aposematism):** In rare instances, very bright and contrasting colors might serve as a warning to predators that the parrot is toxic or unpalatable. However, this is less common' additional_kwargs={} response_metadata={'safety_ratings': []} id='run--5d68aebe-1cfb-4936-b99b-15c49d784323' usage_metadata={'input_token_details': {'cache_read': 0}, 'output_tokens': 49, 'input_tokens': 0, 'total_tokens': 49}|/n\n",
      "content=' in parrots compared to other animal groups.\\n\\n**3. Thermoregulation:**\\n\\n*   **Heat Absorption and Dissipation:** Different colors absorb and reflect sunlight differently. Darker feathers absorb more heat, which can be beneficial in cooler climates or' additional_kwargs={} response_metadata={'safety_ratings': []} id='run--5d68aebe-1cfb-4936-b99b-15c49d784323' usage_metadata={'input_token_details': {'cache_read': 0}, 'output_tokens': 49, 'input_tokens': 0, 'total_tokens': 49}|/n\n",
      "content=' during colder parts of the day. Lighter, more reflective feathers can help dissipate heat in warmer environments.\\n*   **Sunscreen:** Some feather pigments, like melanin (which produces blacks and browns), can also act as a natural sunscreen, protecting the skin' additional_kwargs={} response_metadata={'safety_ratings': []} id='run--5d68aebe-1cfb-4936-b99b-15c49d784323' usage_metadata={'input_token_details': {'cache_read': 0}, 'output_tokens': 52, 'input_tokens': 0, 'total_tokens': 52}|/n\n",
      "content=' from harmful UV radiation.\\n\\n**4. Diet and Nutrition:**\\n\\n*   **Carotenoids:** Many of the bright colors in parrot feathers, particularly reds, oranges, and yellows, come from carotenoids. These are pigments that parrots obtain from their' additional_kwargs={} response_metadata={'safety_ratings': []} id='run--5d68aebe-1cfb-4936-b99b-15c49d784323' usage_metadata={'input_token_details': {'cache_read': 0}, 'output_tokens': 51, 'input_tokens': 0, 'total_tokens': 51}|/n\n",
      "content=\" diet, primarily from fruits, seeds, and flowers. The ability to acquire and deposit these pigments can be an indicator of a parrot's foraging skills and overall health.\\n\\n**5. Feather Structure and Pigments:**\\n\\n*   **Pig\" additional_kwargs={} response_metadata={'safety_ratings': []} id='run--5d68aebe-1cfb-4936-b99b-15c49d784323' usage_metadata={'input_token_details': {'cache_read': 0}, 'output_tokens': 49, 'input_tokens': 0, 'total_tokens': 49}|/n\n",
      "content='ments:** Parrots utilize two main types of pigments:\\n    *   **Melanins:** Produce blacks, browns, grays, and some muted yellows.\\n    *   **Porphyrins:** Produce reds, oranges, yellows' additional_kwargs={} response_metadata={'safety_ratings': []} id='run--5d68aebe-1cfb-4936-b99b-15c49d784323' usage_metadata={'input_token_details': {'cache_read': 0}, 'output_tokens': 49, 'input_tokens': 0, 'total_tokens': 49}|/n\n",
      "content=', and greens. These are less common in birds generally but are abundant in parrots.\\n*   **Structural Colors:** Blues and greens, especially the iridescent ones, are often created by the physical structure of the feathers themselves. Light interacts with microscopic' additional_kwargs={} response_metadata={'safety_ratings': []} id='run--5d68aebe-1cfb-4936-b99b-15c49d784323' usage_metadata={'input_token_details': {'cache_read': 0}, 'output_tokens': 49, 'input_tokens': 0, 'total_tokens': 49}|/n\n",
      "content=' structures on the feather barbules, scattering specific wavelengths of light to create these colors. This is similar to how a rainbow appears.\\n\\n**In summary, the colorful feathers of parrots are a multi-faceted adaptation that plays a crucial role in their lives' additional_kwargs={} response_metadata={'safety_ratings': []} id='run--5d68aebe-1cfb-4936-b99b-15c49d784323' usage_metadata={'input_token_details': {'cache_read': 0}, 'output_tokens': 50, 'input_tokens': 0, 'total_tokens': 50}|/n\n",
      "content='.** They are a vibrant testament to the power of natural selection, shaping these birds into the visually stunning creatures we know and admire.' additional_kwargs={} response_metadata={'finish_reason': 'STOP', 'model_name': 'gemini-2.5-flash-lite', 'safety_ratings': []} id='run--5d68aebe-1cfb-4936-b99b-15c49d784323' usage_metadata={'input_token_details': {'cache_read': 0}, 'output_tokens': 26, 'input_tokens': 0, 'total_tokens': 26}|/n\n"
     ]
    }
   ],
   "source": [
    "## Chat model streaming with metadata\n",
    "\n",
    "for chunk in model.stream(\"Why do parrots have colorful feathers?\"):\n",
    "    print(chunk, end=\"|\", flush=True)\n",
    "    print(\"/n\")"
   ]
  },
  {
   "cell_type": "code",
   "execution_count": 28,
   "id": "ede11bb3",
   "metadata": {},
   "outputs": [
    {
     "name": "stdout",
     "output_type": "stream",
     "text": [
      "<bound method BaseMessage.text of AIMessageChunk(content='Parrots have colorful feathers for', additional_kwargs={}, response_metadata={'safety_ratings': []}, id='run--5f8885e3-ec1a-4175-87bf-00f7bc57f125', usage_metadata={'input_tokens': 8, 'output_tokens': 6, 'total_tokens': 14, 'input_token_details': {'cache_read': 0}})>\n",
      "<bound method BaseMessage.text of AIMessageChunk(content=\"Parrots have colorful feathers for a variety of reasons, and it's a fascinating interplay of **evolution, biology, and behavior\", additional_kwargs={}, response_metadata={'safety_ratings': []}, id='run--5f8885e3-ec1a-4175-87bf-00f7bc57f125', usage_metadata={'input_tokens': 8, 'output_tokens': 26, 'total_tokens': 34, 'input_token_details': {'cache_read': 0}})>\n",
      "<bound method BaseMessage.text of AIMessageChunk(content=\"Parrots have colorful feathers for a variety of reasons, and it's a fascinating interplay of **evolution, biology, and behavior**. Here are the main explanations:\\n\\n**1. Communication and Social Signaling:**\\n\\n*   **Species Recognition:** In dense tropical forests where visibility can be limited, bright and distinct feather patterns help parrots recognize individuals of their own species from a\", additional_kwargs={}, response_metadata={'safety_ratings': []}, id='run--5f8885e3-ec1a-4175-87bf-00f7bc57f125', usage_metadata={'input_tokens': 8, 'output_tokens': 74, 'total_tokens': 82, 'input_token_details': {'cache_read': 0}})>\n",
      "<bound method BaseMessage.text of AIMessageChunk(content=\"Parrots have colorful feathers for a variety of reasons, and it's a fascinating interplay of **evolution, biology, and behavior**. Here are the main explanations:\\n\\n**1. Communication and Social Signaling:**\\n\\n*   **Species Recognition:** In dense tropical forests where visibility can be limited, bright and distinct feather patterns help parrots recognize individuals of their own species from a distance. This is crucial for finding mates, forming flocks, and avoiding interbreeding.\\n*   **Mate Attraction and Selection:** Color plays a significant role in courtship displays. Males often have brighter and more elaborate plumage than females, or specific\", additional_kwargs={}, response_metadata={'safety_ratings': []}, id='run--5f8885e3-ec1a-4175-87bf-00f7bc57f125', usage_metadata={'input_tokens': 8, 'output_tokens': 122, 'total_tokens': 130, 'input_token_details': {'cache_read': 0}})>\n",
      "<bound method BaseMessage.text of AIMessageChunk(content=\"Parrots have colorful feathers for a variety of reasons, and it's a fascinating interplay of **evolution, biology, and behavior**. Here are the main explanations:\\n\\n**1. Communication and Social Signaling:**\\n\\n*   **Species Recognition:** In dense tropical forests where visibility can be limited, bright and distinct feather patterns help parrots recognize individuals of their own species from a distance. This is crucial for finding mates, forming flocks, and avoiding interbreeding.\\n*   **Mate Attraction and Selection:** Color plays a significant role in courtship displays. Males often have brighter and more elaborate plumage than females, or specific color patterns that signal their health, fitness, and genetic quality to potential mates. Females will choose mates based on these visual cues.\\n*   **Social Hierarchy and Status:** In some parrot species, subtle variations in color or the intensity of certain colors\", additional_kwargs={}, response_metadata={'safety_ratings': []}, id='run--5f8885e3-ec1a-4175-87bf-00f7bc57f125', usage_metadata={'input_tokens': 8, 'output_tokens': 172, 'total_tokens': 180, 'input_token_details': {'cache_read': 0}})>\n",
      "<bound method BaseMessage.text of AIMessageChunk(content=\"Parrots have colorful feathers for a variety of reasons, and it's a fascinating interplay of **evolution, biology, and behavior**. Here are the main explanations:\\n\\n**1. Communication and Social Signaling:**\\n\\n*   **Species Recognition:** In dense tropical forests where visibility can be limited, bright and distinct feather patterns help parrots recognize individuals of their own species from a distance. This is crucial for finding mates, forming flocks, and avoiding interbreeding.\\n*   **Mate Attraction and Selection:** Color plays a significant role in courtship displays. Males often have brighter and more elaborate plumage than females, or specific color patterns that signal their health, fitness, and genetic quality to potential mates. Females will choose mates based on these visual cues.\\n*   **Social Hierarchy and Status:** In some parrot species, subtle variations in color or the intensity of certain colors might indicate an individual's dominance or social status within a flock.\\n*   **Emotional State and Mood:** While less understood than other reasons, some researchers believe that feather color can subtly change or be emphasized during different emotional states, like\", additional_kwargs={}, response_metadata={'safety_ratings': []}, id='run--5f8885e3-ec1a-4175-87bf-00f7bc57f125', usage_metadata={'input_tokens': 8, 'output_tokens': 220, 'total_tokens': 228, 'input_token_details': {'cache_read': 0}})>\n",
      "<bound method BaseMessage.text of AIMessageChunk(content=\"Parrots have colorful feathers for a variety of reasons, and it's a fascinating interplay of **evolution, biology, and behavior**. Here are the main explanations:\\n\\n**1. Communication and Social Signaling:**\\n\\n*   **Species Recognition:** In dense tropical forests where visibility can be limited, bright and distinct feather patterns help parrots recognize individuals of their own species from a distance. This is crucial for finding mates, forming flocks, and avoiding interbreeding.\\n*   **Mate Attraction and Selection:** Color plays a significant role in courtship displays. Males often have brighter and more elaborate plumage than females, or specific color patterns that signal their health, fitness, and genetic quality to potential mates. Females will choose mates based on these visual cues.\\n*   **Social Hierarchy and Status:** In some parrot species, subtle variations in color or the intensity of certain colors might indicate an individual's dominance or social status within a flock.\\n*   **Emotional State and Mood:** While less understood than other reasons, some researchers believe that feather color can subtly change or be emphasized during different emotional states, like excitement or aggression.\\n\\n**2. Camouflage:**\\n\\n*   **Blending with the Environment:** While many parrots are strikingly colorful, their plumage often blends remarkably well with the vibrant foliage of their tropical habitats. Think of the greens of leaves\", additional_kwargs={}, response_metadata={'safety_ratings': []}, id='run--5f8885e3-ec1a-4175-87bf-00f7bc57f125', usage_metadata={'input_tokens': 8, 'output_tokens': 269, 'total_tokens': 277, 'input_token_details': {'cache_read': 0}})>\n",
      "<bound method BaseMessage.text of AIMessageChunk(content=\"Parrots have colorful feathers for a variety of reasons, and it's a fascinating interplay of **evolution, biology, and behavior**. Here are the main explanations:\\n\\n**1. Communication and Social Signaling:**\\n\\n*   **Species Recognition:** In dense tropical forests where visibility can be limited, bright and distinct feather patterns help parrots recognize individuals of their own species from a distance. This is crucial for finding mates, forming flocks, and avoiding interbreeding.\\n*   **Mate Attraction and Selection:** Color plays a significant role in courtship displays. Males often have brighter and more elaborate plumage than females, or specific color patterns that signal their health, fitness, and genetic quality to potential mates. Females will choose mates based on these visual cues.\\n*   **Social Hierarchy and Status:** In some parrot species, subtle variations in color or the intensity of certain colors might indicate an individual's dominance or social status within a flock.\\n*   **Emotional State and Mood:** While less understood than other reasons, some researchers believe that feather color can subtly change or be emphasized during different emotional states, like excitement or aggression.\\n\\n**2. Camouflage:**\\n\\n*   **Blending with the Environment:** While many parrots are strikingly colorful, their plumage often blends remarkably well with the vibrant foliage of their tropical habitats. Think of the greens of leaves, the reds and oranges of flowers and fruits, and the blues and yellows of the sky and water. This camouflage helps them avoid predators.\\n*   **Breaking Up Their Outline:** The irregular patterns and patches of color can break up the parrot\", additional_kwargs={}, response_metadata={'safety_ratings': []}, id='run--5f8885e3-ec1a-4175-87bf-00f7bc57f125', usage_metadata={'input_tokens': 8, 'output_tokens': 318, 'total_tokens': 326, 'input_token_details': {'cache_read': 0}})>\n",
      "<bound method BaseMessage.text of AIMessageChunk(content=\"Parrots have colorful feathers for a variety of reasons, and it's a fascinating interplay of **evolution, biology, and behavior**. Here are the main explanations:\\n\\n**1. Communication and Social Signaling:**\\n\\n*   **Species Recognition:** In dense tropical forests where visibility can be limited, bright and distinct feather patterns help parrots recognize individuals of their own species from a distance. This is crucial for finding mates, forming flocks, and avoiding interbreeding.\\n*   **Mate Attraction and Selection:** Color plays a significant role in courtship displays. Males often have brighter and more elaborate plumage than females, or specific color patterns that signal their health, fitness, and genetic quality to potential mates. Females will choose mates based on these visual cues.\\n*   **Social Hierarchy and Status:** In some parrot species, subtle variations in color or the intensity of certain colors might indicate an individual's dominance or social status within a flock.\\n*   **Emotional State and Mood:** While less understood than other reasons, some researchers believe that feather color can subtly change or be emphasized during different emotional states, like excitement or aggression.\\n\\n**2. Camouflage:**\\n\\n*   **Blending with the Environment:** While many parrots are strikingly colorful, their plumage often blends remarkably well with the vibrant foliage of their tropical habitats. Think of the greens of leaves, the reds and oranges of flowers and fruits, and the blues and yellows of the sky and water. This camouflage helps them avoid predators.\\n*   **Breaking Up Their Outline:** The irregular patterns and patches of color can break up the parrot's silhouette, making it harder for predators to spot them against a busy background.\\n\\n**3. Protection from Sunlight (UV Radiation):**\\n\\n*   **Melanin Production:** The dark pigments, like melanin, that contribute to browns\", additional_kwargs={}, response_metadata={'safety_ratings': []}, id='run--5f8885e3-ec1a-4175-87bf-00f7bc57f125', usage_metadata={'input_tokens': 8, 'output_tokens': 366, 'total_tokens': 374, 'input_token_details': {'cache_read': 0}})>\n",
      "<bound method BaseMessage.text of AIMessageChunk(content=\"Parrots have colorful feathers for a variety of reasons, and it's a fascinating interplay of **evolution, biology, and behavior**. Here are the main explanations:\\n\\n**1. Communication and Social Signaling:**\\n\\n*   **Species Recognition:** In dense tropical forests where visibility can be limited, bright and distinct feather patterns help parrots recognize individuals of their own species from a distance. This is crucial for finding mates, forming flocks, and avoiding interbreeding.\\n*   **Mate Attraction and Selection:** Color plays a significant role in courtship displays. Males often have brighter and more elaborate plumage than females, or specific color patterns that signal their health, fitness, and genetic quality to potential mates. Females will choose mates based on these visual cues.\\n*   **Social Hierarchy and Status:** In some parrot species, subtle variations in color or the intensity of certain colors might indicate an individual's dominance or social status within a flock.\\n*   **Emotional State and Mood:** While less understood than other reasons, some researchers believe that feather color can subtly change or be emphasized during different emotional states, like excitement or aggression.\\n\\n**2. Camouflage:**\\n\\n*   **Blending with the Environment:** While many parrots are strikingly colorful, their plumage often blends remarkably well with the vibrant foliage of their tropical habitats. Think of the greens of leaves, the reds and oranges of flowers and fruits, and the blues and yellows of the sky and water. This camouflage helps them avoid predators.\\n*   **Breaking Up Their Outline:** The irregular patterns and patches of color can break up the parrot's silhouette, making it harder for predators to spot them against a busy background.\\n\\n**3. Protection from Sunlight (UV Radiation):**\\n\\n*   **Melanin Production:** The dark pigments, like melanin, that contribute to browns and blacks in feathers also help absorb UV radiation. While parrots have vibrant colors, they also have areas of darker feathers that can provide this protection.\\n*   **Structural Colors:** Many of parrot's brilliant blues and greens are not due to pigments\", additional_kwargs={}, response_metadata={'safety_ratings': []}, id='run--5f8885e3-ec1a-4175-87bf-00f7bc57f125', usage_metadata={'input_tokens': 8, 'output_tokens': 416, 'total_tokens': 424, 'input_token_details': {'cache_read': 0}})>\n",
      "<bound method BaseMessage.text of AIMessageChunk(content='Parrots have colorful feathers for a variety of reasons, and it\\'s a fascinating interplay of **evolution, biology, and behavior**. Here are the main explanations:\\n\\n**1. Communication and Social Signaling:**\\n\\n*   **Species Recognition:** In dense tropical forests where visibility can be limited, bright and distinct feather patterns help parrots recognize individuals of their own species from a distance. This is crucial for finding mates, forming flocks, and avoiding interbreeding.\\n*   **Mate Attraction and Selection:** Color plays a significant role in courtship displays. Males often have brighter and more elaborate plumage than females, or specific color patterns that signal their health, fitness, and genetic quality to potential mates. Females will choose mates based on these visual cues.\\n*   **Social Hierarchy and Status:** In some parrot species, subtle variations in color or the intensity of certain colors might indicate an individual\\'s dominance or social status within a flock.\\n*   **Emotional State and Mood:** While less understood than other reasons, some researchers believe that feather color can subtly change or be emphasized during different emotional states, like excitement or aggression.\\n\\n**2. Camouflage:**\\n\\n*   **Blending with the Environment:** While many parrots are strikingly colorful, their plumage often blends remarkably well with the vibrant foliage of their tropical habitats. Think of the greens of leaves, the reds and oranges of flowers and fruits, and the blues and yellows of the sky and water. This camouflage helps them avoid predators.\\n*   **Breaking Up Their Outline:** The irregular patterns and patches of color can break up the parrot\\'s silhouette, making it harder for predators to spot them against a busy background.\\n\\n**3. Protection from Sunlight (UV Radiation):**\\n\\n*   **Melanin Production:** The dark pigments, like melanin, that contribute to browns and blacks in feathers also help absorb UV radiation. While parrots have vibrant colors, they also have areas of darker feathers that can provide this protection.\\n*   **Structural Colors:** Many of parrot\\'s brilliant blues and greens are not due to pigments but to the way light interacts with the microscopic structure of their feathers. This \"structural color\" can also reflect UV light.\\n\\n**4. Diet and Nutrient Availability:**\\n\\n*   **Carotenoids:** While not the sole factor, the', additional_kwargs={}, response_metadata={'safety_ratings': []}, id='run--5f8885e3-ec1a-4175-87bf-00f7bc57f125', usage_metadata={'input_tokens': 8, 'output_tokens': 465, 'total_tokens': 473, 'input_token_details': {'cache_read': 0}})>\n",
      "<bound method BaseMessage.text of AIMessageChunk(content='Parrots have colorful feathers for a variety of reasons, and it\\'s a fascinating interplay of **evolution, biology, and behavior**. Here are the main explanations:\\n\\n**1. Communication and Social Signaling:**\\n\\n*   **Species Recognition:** In dense tropical forests where visibility can be limited, bright and distinct feather patterns help parrots recognize individuals of their own species from a distance. This is crucial for finding mates, forming flocks, and avoiding interbreeding.\\n*   **Mate Attraction and Selection:** Color plays a significant role in courtship displays. Males often have brighter and more elaborate plumage than females, or specific color patterns that signal their health, fitness, and genetic quality to potential mates. Females will choose mates based on these visual cues.\\n*   **Social Hierarchy and Status:** In some parrot species, subtle variations in color or the intensity of certain colors might indicate an individual\\'s dominance or social status within a flock.\\n*   **Emotional State and Mood:** While less understood than other reasons, some researchers believe that feather color can subtly change or be emphasized during different emotional states, like excitement or aggression.\\n\\n**2. Camouflage:**\\n\\n*   **Blending with the Environment:** While many parrots are strikingly colorful, their plumage often blends remarkably well with the vibrant foliage of their tropical habitats. Think of the greens of leaves, the reds and oranges of flowers and fruits, and the blues and yellows of the sky and water. This camouflage helps them avoid predators.\\n*   **Breaking Up Their Outline:** The irregular patterns and patches of color can break up the parrot\\'s silhouette, making it harder for predators to spot them against a busy background.\\n\\n**3. Protection from Sunlight (UV Radiation):**\\n\\n*   **Melanin Production:** The dark pigments, like melanin, that contribute to browns and blacks in feathers also help absorb UV radiation. While parrots have vibrant colors, they also have areas of darker feathers that can provide this protection.\\n*   **Structural Colors:** Many of parrot\\'s brilliant blues and greens are not due to pigments but to the way light interacts with the microscopic structure of their feathers. This \"structural color\" can also reflect UV light.\\n\\n**4. Diet and Nutrient Availability:**\\n\\n*   **Carotenoids:** While not the sole factor, the availability of certain pigments like carotenoids in their diet (found in fruits, seeds, and flowers) can influence the intensity and type of reds, oranges, and yellows in their feathers. Birds that can access and utilize these nutrients may develop more vibrant plumage', additional_kwargs={}, response_metadata={'safety_ratings': []}, id='run--5f8885e3-ec1a-4175-87bf-00f7bc57f125', usage_metadata={'input_tokens': 8, 'output_tokens': 515, 'total_tokens': 523, 'input_token_details': {'cache_read': 0}})>\n",
      "<bound method BaseMessage.text of AIMessageChunk(content='Parrots have colorful feathers for a variety of reasons, and it\\'s a fascinating interplay of **evolution, biology, and behavior**. Here are the main explanations:\\n\\n**1. Communication and Social Signaling:**\\n\\n*   **Species Recognition:** In dense tropical forests where visibility can be limited, bright and distinct feather patterns help parrots recognize individuals of their own species from a distance. This is crucial for finding mates, forming flocks, and avoiding interbreeding.\\n*   **Mate Attraction and Selection:** Color plays a significant role in courtship displays. Males often have brighter and more elaborate plumage than females, or specific color patterns that signal their health, fitness, and genetic quality to potential mates. Females will choose mates based on these visual cues.\\n*   **Social Hierarchy and Status:** In some parrot species, subtle variations in color or the intensity of certain colors might indicate an individual\\'s dominance or social status within a flock.\\n*   **Emotional State and Mood:** While less understood than other reasons, some researchers believe that feather color can subtly change or be emphasized during different emotional states, like excitement or aggression.\\n\\n**2. Camouflage:**\\n\\n*   **Blending with the Environment:** While many parrots are strikingly colorful, their plumage often blends remarkably well with the vibrant foliage of their tropical habitats. Think of the greens of leaves, the reds and oranges of flowers and fruits, and the blues and yellows of the sky and water. This camouflage helps them avoid predators.\\n*   **Breaking Up Their Outline:** The irregular patterns and patches of color can break up the parrot\\'s silhouette, making it harder for predators to spot them against a busy background.\\n\\n**3. Protection from Sunlight (UV Radiation):**\\n\\n*   **Melanin Production:** The dark pigments, like melanin, that contribute to browns and blacks in feathers also help absorb UV radiation. While parrots have vibrant colors, they also have areas of darker feathers that can provide this protection.\\n*   **Structural Colors:** Many of parrot\\'s brilliant blues and greens are not due to pigments but to the way light interacts with the microscopic structure of their feathers. This \"structural color\" can also reflect UV light.\\n\\n**4. Diet and Nutrient Availability:**\\n\\n*   **Carotenoids:** While not the sole factor, the availability of certain pigments like carotenoids in their diet (found in fruits, seeds, and flowers) can influence the intensity and type of reds, oranges, and yellows in their feathers. Birds that can access and utilize these nutrients may develop more vibrant plumage, signaling their foraging success.\\n\\n**5. Pigments and Structural Colors:**\\n\\n*   **Melanins:** These pigments produce blacks, browns, and some grays.\\n*   **Pteridines:** These pigments are', additional_kwargs={}, response_metadata={'safety_ratings': []}, id='run--5f8885e3-ec1a-4175-87bf-00f7bc57f125', usage_metadata={'input_tokens': 8, 'output_tokens': 563, 'total_tokens': 571, 'input_token_details': {'cache_read': 0}})>\n",
      "<bound method BaseMessage.text of AIMessageChunk(content='Parrots have colorful feathers for a variety of reasons, and it\\'s a fascinating interplay of **evolution, biology, and behavior**. Here are the main explanations:\\n\\n**1. Communication and Social Signaling:**\\n\\n*   **Species Recognition:** In dense tropical forests where visibility can be limited, bright and distinct feather patterns help parrots recognize individuals of their own species from a distance. This is crucial for finding mates, forming flocks, and avoiding interbreeding.\\n*   **Mate Attraction and Selection:** Color plays a significant role in courtship displays. Males often have brighter and more elaborate plumage than females, or specific color patterns that signal their health, fitness, and genetic quality to potential mates. Females will choose mates based on these visual cues.\\n*   **Social Hierarchy and Status:** In some parrot species, subtle variations in color or the intensity of certain colors might indicate an individual\\'s dominance or social status within a flock.\\n*   **Emotional State and Mood:** While less understood than other reasons, some researchers believe that feather color can subtly change or be emphasized during different emotional states, like excitement or aggression.\\n\\n**2. Camouflage:**\\n\\n*   **Blending with the Environment:** While many parrots are strikingly colorful, their plumage often blends remarkably well with the vibrant foliage of their tropical habitats. Think of the greens of leaves, the reds and oranges of flowers and fruits, and the blues and yellows of the sky and water. This camouflage helps them avoid predators.\\n*   **Breaking Up Their Outline:** The irregular patterns and patches of color can break up the parrot\\'s silhouette, making it harder for predators to spot them against a busy background.\\n\\n**3. Protection from Sunlight (UV Radiation):**\\n\\n*   **Melanin Production:** The dark pigments, like melanin, that contribute to browns and blacks in feathers also help absorb UV radiation. While parrots have vibrant colors, they also have areas of darker feathers that can provide this protection.\\n*   **Structural Colors:** Many of parrot\\'s brilliant blues and greens are not due to pigments but to the way light interacts with the microscopic structure of their feathers. This \"structural color\" can also reflect UV light.\\n\\n**4. Diet and Nutrient Availability:**\\n\\n*   **Carotenoids:** While not the sole factor, the availability of certain pigments like carotenoids in their diet (found in fruits, seeds, and flowers) can influence the intensity and type of reds, oranges, and yellows in their feathers. Birds that can access and utilize these nutrients may develop more vibrant plumage, signaling their foraging success.\\n\\n**5. Pigments and Structural Colors:**\\n\\n*   **Melanins:** These pigments produce blacks, browns, and some grays.\\n*   **Pteridines:** These pigments are responsible for reds, oranges, and yellows.\\n*   **Structural Colors:** These are created by the physical structure of the feather barbules and their interaction with light. This is how many blues and greens are produced, and it\\'s often what', additional_kwargs={}, response_metadata={'safety_ratings': []}, id='run--5f8885e3-ec1a-4175-87bf-00f7bc57f125', usage_metadata={'input_tokens': 8, 'output_tokens': 613, 'total_tokens': 621, 'input_token_details': {'cache_read': 0}})>\n",
      "<bound method BaseMessage.text of AIMessageChunk(content='Parrots have colorful feathers for a variety of reasons, and it\\'s a fascinating interplay of **evolution, biology, and behavior**. Here are the main explanations:\\n\\n**1. Communication and Social Signaling:**\\n\\n*   **Species Recognition:** In dense tropical forests where visibility can be limited, bright and distinct feather patterns help parrots recognize individuals of their own species from a distance. This is crucial for finding mates, forming flocks, and avoiding interbreeding.\\n*   **Mate Attraction and Selection:** Color plays a significant role in courtship displays. Males often have brighter and more elaborate plumage than females, or specific color patterns that signal their health, fitness, and genetic quality to potential mates. Females will choose mates based on these visual cues.\\n*   **Social Hierarchy and Status:** In some parrot species, subtle variations in color or the intensity of certain colors might indicate an individual\\'s dominance or social status within a flock.\\n*   **Emotional State and Mood:** While less understood than other reasons, some researchers believe that feather color can subtly change or be emphasized during different emotional states, like excitement or aggression.\\n\\n**2. Camouflage:**\\n\\n*   **Blending with the Environment:** While many parrots are strikingly colorful, their plumage often blends remarkably well with the vibrant foliage of their tropical habitats. Think of the greens of leaves, the reds and oranges of flowers and fruits, and the blues and yellows of the sky and water. This camouflage helps them avoid predators.\\n*   **Breaking Up Their Outline:** The irregular patterns and patches of color can break up the parrot\\'s silhouette, making it harder for predators to spot them against a busy background.\\n\\n**3. Protection from Sunlight (UV Radiation):**\\n\\n*   **Melanin Production:** The dark pigments, like melanin, that contribute to browns and blacks in feathers also help absorb UV radiation. While parrots have vibrant colors, they also have areas of darker feathers that can provide this protection.\\n*   **Structural Colors:** Many of parrot\\'s brilliant blues and greens are not due to pigments but to the way light interacts with the microscopic structure of their feathers. This \"structural color\" can also reflect UV light.\\n\\n**4. Diet and Nutrient Availability:**\\n\\n*   **Carotenoids:** While not the sole factor, the availability of certain pigments like carotenoids in their diet (found in fruits, seeds, and flowers) can influence the intensity and type of reds, oranges, and yellows in their feathers. Birds that can access and utilize these nutrients may develop more vibrant plumage, signaling their foraging success.\\n\\n**5. Pigments and Structural Colors:**\\n\\n*   **Melanins:** These pigments produce blacks, browns, and some grays.\\n*   **Pteridines:** These pigments are responsible for reds, oranges, and yellows.\\n*   **Structural Colors:** These are created by the physical structure of the feather barbules and their interaction with light. This is how many blues and greens are produced, and it\\'s often what gives parrot feathers their iridescent sheen.\\n\\n**In summary, the vibrant colors of parrots are a multifaceted evolutionary adaptation that serves crucial roles in their survival and reproduction. They are essentially a visual language that helps them navigate their social world, find mates, avoid', additional_kwargs={}, response_metadata={'safety_ratings': []}, id='run--5f8885e3-ec1a-4175-87bf-00f7bc57f125', usage_metadata={'input_tokens': 8, 'output_tokens': 663, 'total_tokens': 671, 'input_token_details': {'cache_read': 0}})>\n",
      "<bound method BaseMessage.text of AIMessageChunk(content='Parrots have colorful feathers for a variety of reasons, and it\\'s a fascinating interplay of **evolution, biology, and behavior**. Here are the main explanations:\\n\\n**1. Communication and Social Signaling:**\\n\\n*   **Species Recognition:** In dense tropical forests where visibility can be limited, bright and distinct feather patterns help parrots recognize individuals of their own species from a distance. This is crucial for finding mates, forming flocks, and avoiding interbreeding.\\n*   **Mate Attraction and Selection:** Color plays a significant role in courtship displays. Males often have brighter and more elaborate plumage than females, or specific color patterns that signal their health, fitness, and genetic quality to potential mates. Females will choose mates based on these visual cues.\\n*   **Social Hierarchy and Status:** In some parrot species, subtle variations in color or the intensity of certain colors might indicate an individual\\'s dominance or social status within a flock.\\n*   **Emotional State and Mood:** While less understood than other reasons, some researchers believe that feather color can subtly change or be emphasized during different emotional states, like excitement or aggression.\\n\\n**2. Camouflage:**\\n\\n*   **Blending with the Environment:** While many parrots are strikingly colorful, their plumage often blends remarkably well with the vibrant foliage of their tropical habitats. Think of the greens of leaves, the reds and oranges of flowers and fruits, and the blues and yellows of the sky and water. This camouflage helps them avoid predators.\\n*   **Breaking Up Their Outline:** The irregular patterns and patches of color can break up the parrot\\'s silhouette, making it harder for predators to spot them against a busy background.\\n\\n**3. Protection from Sunlight (UV Radiation):**\\n\\n*   **Melanin Production:** The dark pigments, like melanin, that contribute to browns and blacks in feathers also help absorb UV radiation. While parrots have vibrant colors, they also have areas of darker feathers that can provide this protection.\\n*   **Structural Colors:** Many of parrot\\'s brilliant blues and greens are not due to pigments but to the way light interacts with the microscopic structure of their feathers. This \"structural color\" can also reflect UV light.\\n\\n**4. Diet and Nutrient Availability:**\\n\\n*   **Carotenoids:** While not the sole factor, the availability of certain pigments like carotenoids in their diet (found in fruits, seeds, and flowers) can influence the intensity and type of reds, oranges, and yellows in their feathers. Birds that can access and utilize these nutrients may develop more vibrant plumage, signaling their foraging success.\\n\\n**5. Pigments and Structural Colors:**\\n\\n*   **Melanins:** These pigments produce blacks, browns, and some grays.\\n*   **Pteridines:** These pigments are responsible for reds, oranges, and yellows.\\n*   **Structural Colors:** These are created by the physical structure of the feather barbules and their interaction with light. This is how many blues and greens are produced, and it\\'s often what gives parrot feathers their iridescent sheen.\\n\\n**In summary, the vibrant colors of parrots are a multifaceted evolutionary adaptation that serves crucial roles in their survival and reproduction. They are essentially a visual language that helps them navigate their social world, find mates, avoid danger, and thrive in their environment.**', additional_kwargs={}, response_metadata={'safety_ratings': [], 'finish_reason': 'STOP', 'model_name': 'gemini-2.5-flash-lite'}, id='run--5f8885e3-ec1a-4175-87bf-00f7bc57f125', usage_metadata={'input_tokens': 8, 'output_tokens': 671, 'total_tokens': 679, 'input_token_details': {'cache_read': 0}})>\n"
     ]
    }
   ],
   "source": [
    "full = None  # None | AIMessageChunk\n",
    "for chunk in model.stream(\"Why do parrots have colorful feathers?\"):\n",
    "    full = chunk if full is None else full + chunk\n",
    "    print(full.text)"
   ]
  },
  {
   "cell_type": "code",
   "execution_count": 31,
   "id": "bb248b04",
   "metadata": {},
   "outputs": [
    {
     "name": "stdout",
     "output_type": "stream",
     "text": [
      "Parrots have colorful feathers for a variety of reasons, and it's a fascinating interplay of **evolution, biology, and behavior**. Here are the main explanations:\n",
      "\n",
      "**1. Communication and Social Signaling:**\n",
      "\n",
      "*   **Species Recognition:** In dense tropical forests where visibility can be limited, bright and distinct feather patterns help parrots recognize individuals of their own species from a distance. This is crucial for finding mates, forming flocks, and avoiding interbreeding.\n",
      "*   **Mate Attraction and Selection:** Color plays a significant role in courtship displays. Males often have brighter and more elaborate plumage than females, or specific color patterns that signal their health, fitness, and genetic quality to potential mates. Females will choose mates based on these visual cues.\n",
      "*   **Social Hierarchy and Status:** In some parrot species, subtle variations in color or the intensity of certain colors might indicate an individual's dominance or social status within a flock.\n",
      "*   **Emotional State and Mood:** While less understood than other reasons, some researchers believe that feather color can subtly change or be emphasized during different emotional states, like excitement or aggression.\n",
      "\n",
      "**2. Camouflage:**\n",
      "\n",
      "*   **Blending with the Environment:** While many parrots are strikingly colorful, their plumage often blends remarkably well with the vibrant foliage of their tropical habitats. Think of the greens of leaves, the reds and oranges of flowers and fruits, and the blues and yellows of the sky and water. This camouflage helps them avoid predators.\n",
      "*   **Breaking Up Their Outline:** The irregular patterns and patches of color can break up the parrot's silhouette, making it harder for predators to spot them against a busy background.\n",
      "\n",
      "**3. Protection from Sunlight (UV Radiation):**\n",
      "\n",
      "*   **Melanin Production:** The dark pigments, like melanin, that contribute to browns and blacks in feathers also help absorb UV radiation. While parrots have vibrant colors, they also have areas of darker feathers that can provide this protection.\n",
      "*   **Structural Colors:** Many of parrot's brilliant blues and greens are not due to pigments but to the way light interacts with the microscopic structure of their feathers. This \"structural color\" can also reflect UV light.\n",
      "\n",
      "**4. Diet and Nutrient Availability:**\n",
      "\n",
      "*   **Carotenoids:** While not the sole factor, the availability of certain pigments like carotenoids in their diet (found in fruits, seeds, and flowers) can influence the intensity and type of reds, oranges, and yellows in their feathers. Birds that can access and utilize these nutrients may develop more vibrant plumage, signaling their foraging success.\n",
      "\n",
      "**5. Pigments and Structural Colors:**\n",
      "\n",
      "*   **Melanins:** These pigments produce blacks, browns, and some grays.\n",
      "*   **Pteridines:** These pigments are responsible for reds, oranges, and yellows.\n",
      "*   **Structural Colors:** These are created by the physical structure of the feather barbules and their interaction with light. This is how many blues and greens are produced, and it's often what gives parrot feathers their iridescent sheen.\n",
      "\n",
      "**In summary, the vibrant colors of parrots are a multifaceted evolutionary adaptation that serves crucial roles in their survival and reproduction. They are essentially a visual language that helps them navigate their social world, find mates, avoid danger, and thrive in their environment.**\n"
     ]
    }
   ],
   "source": [
    "print(full.content)"
   ]
  },
  {
   "cell_type": "code",
   "execution_count": 33,
   "id": "68c6ead3",
   "metadata": {},
   "outputs": [
    {
     "data": {
      "text/plain": [
       "{'input_tokens': 8,\n",
       " 'output_tokens': 671,\n",
       " 'total_tokens': 679,\n",
       " 'input_token_details': {'cache_read': 0}}"
      ]
     },
     "execution_count": 33,
     "metadata": {},
     "output_type": "execute_result"
    }
   ],
   "source": [
    "full.usage_metadata"
   ]
  },
  {
   "cell_type": "markdown",
   "id": "f2d4fa31",
   "metadata": {},
   "source": [
    "### Batch"
   ]
  },
  {
   "cell_type": "markdown",
   "id": "9541b355",
   "metadata": {},
   "source": [
    "It will only return the final output for the entire batch. "
   ]
  },
  {
   "cell_type": "code",
   "execution_count": 48,
   "id": "5a112396",
   "metadata": {},
   "outputs": [
    {
     "data": {
      "text/plain": [
       "['The capital of India is **New Delhi**.',\n",
       " '4 plus 6 is **10**.',\n",
       " 'The currency of India is the **Indian Rupee**.\\n\\nIts symbol is **₹** and its ISO 4217 code is **INR**.']"
      ]
     },
     "execution_count": 48,
     "metadata": {},
     "output_type": "execute_result"
    }
   ],
   "source": [
    "responses = llm.batch([\n",
    "    \"What is capital of India?\",\n",
    "    \"How much is 4 plus 6?\",\n",
    "    \"What is the currency of India?\"\n",
    "])\n",
    "\n",
    "responses"
   ]
  },
  {
   "cell_type": "code",
   "execution_count": 51,
   "id": "e189ed6a",
   "metadata": {},
   "outputs": [
    {
     "name": "stdout",
     "output_type": "stream",
     "text": [
      "The capital of India is **New Delhi**.\n",
      "\n",
      "\n",
      "4 plus 6 is **10**.\n",
      "\n",
      "\n",
      "The currency of India is the **Indian Rupee**.\n",
      "\n",
      "Its symbol is **₹** and its ISO 4217 code is **INR**.\n",
      "\n",
      "\n"
     ]
    }
   ],
   "source": [
    "for response in responses:\n",
    "    print(response)\n",
    "    print(\"\\n\")"
   ]
  },
  {
   "cell_type": "markdown",
   "id": "c4b9a96f",
   "metadata": {},
   "source": [
    "`batch_as_completed()`: If you want to receive the output for each individual input as it finishes generating,results may arrive out of order.\n",
    "\n",
    "Each includes the input index for matching to reconstruct the original order if needed."
   ]
  },
  {
   "cell_type": "code",
   "execution_count": 53,
   "id": "25c6817c",
   "metadata": {},
   "outputs": [
    {
     "name": "stdout",
     "output_type": "stream",
     "text": [
      "(1, '4 plus 6 is equal to 10.')\n",
      "(0, 'The capital of India is **New Delhi**.')\n",
      "(2, 'The currency of India is the **Indian Rupee**.\\n\\nIts symbol is **₹** and its ISO 4217 code is **INR**.')\n"
     ]
    }
   ],
   "source": [
    "for response in  llm.batch_as_completed([\n",
    "    \"What is capital of India?\",\n",
    "    \"How much is 4 plus 6?\",\n",
    "    \"What is the currency of India?\"\n",
    "]):\n",
    "    \n",
    "    print(response)"
   ]
  },
  {
   "cell_type": "code",
   "execution_count": 54,
   "id": "c0c36003",
   "metadata": {},
   "outputs": [
    {
     "name": "stdout",
     "output_type": "stream",
     "text": [
      "(1, AIMessage(content='4 plus 6 is **10**.', additional_kwargs={}, response_metadata={'prompt_feedback': {'block_reason': 0, 'safety_ratings': []}, 'finish_reason': 'STOP', 'model_name': 'gemini-2.5-flash-lite', 'safety_ratings': []}, id='run--d39f5d40-2642-4223-9b50-d36bc8c64100-0', usage_metadata={'input_tokens': 10, 'output_tokens': 9, 'total_tokens': 19, 'input_token_details': {'cache_read': 0}}))\n",
      "(0, AIMessage(content='The capital of India is **New Delhi**.', additional_kwargs={}, response_metadata={'prompt_feedback': {'block_reason': 0, 'safety_ratings': []}, 'finish_reason': 'STOP', 'model_name': 'gemini-2.5-flash-lite', 'safety_ratings': []}, id='run--00c0be6e-2970-489a-9a83-2e9dadd7c12a-0', usage_metadata={'input_tokens': 7, 'output_tokens': 9, 'total_tokens': 16, 'input_token_details': {'cache_read': 0}}))\n",
      "(2, AIMessage(content='The currency of India is the **Indian Rupee**.\\n\\nIts symbol is **₹** and its ISO 4217 code is **INR**.', additional_kwargs={}, response_metadata={'prompt_feedback': {'block_reason': 0, 'safety_ratings': []}, 'finish_reason': 'STOP', 'model_name': 'gemini-2.5-flash-lite', 'safety_ratings': []}, id='run--3a699a7a-da50-436a-b4c7-65579ece5ca1-0', usage_metadata={'input_tokens': 8, 'output_tokens': 31, 'total_tokens': 39, 'input_token_details': {'cache_read': 0}}))\n"
     ]
    }
   ],
   "source": [
    "for response in  model.batch_as_completed([\n",
    "    \"What is capital of India?\",\n",
    "    \"How much is 4 plus 6?\",\n",
    "    \"What is the currency of India?\"\n",
    "]):\n",
    "    \n",
    "    print(response)"
   ]
  },
  {
   "cell_type": "code",
   "execution_count": null,
   "id": "0e3de95e",
   "metadata": {},
   "outputs": [],
   "source": []
  }
 ],
 "metadata": {
  "kernelspec": {
   "display_name": "dev",
   "language": "python",
   "name": "python3"
  },
  "language_info": {
   "codemirror_mode": {
    "name": "ipython",
    "version": 3
   },
   "file_extension": ".py",
   "mimetype": "text/x-python",
   "name": "python",
   "nbconvert_exporter": "python",
   "pygments_lexer": "ipython3",
   "version": "3.11.13"
  }
 },
 "nbformat": 4,
 "nbformat_minor": 5
}
